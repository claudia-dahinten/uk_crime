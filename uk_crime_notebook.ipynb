{
 "cells": [
  {
   "cell_type": "markdown",
   "metadata": {},
   "source": [
    "## UK Crime Data\n",
    "Source: https://data.police.uk/data/fetch/670feb56-8400-4d7e-81e9-8e2b9930d5eb/"
   ]
  },
  {
   "cell_type": "code",
   "execution_count": 1,
   "metadata": {},
   "outputs": [],
   "source": [
    "import os\n",
    "import glob\n",
    "from tqdm import tqdm_notebook\n",
    "\n",
    "import pandas as pd\n",
    "import numpy as np\n",
    "import datetime\n",
    "\n",
    "import matplotlib.pyplot as plt\n",
    "import seaborn as sns\n",
    "import re"
   ]
  },
  {
   "cell_type": "markdown",
   "metadata": {},
   "source": [
    "### Challenge: I wanted to find an efficient way to upload all files which are saved in different folders\n",
    "Mission Accomplished!"
   ]
  },
  {
   "cell_type": "code",
   "execution_count": 2,
   "metadata": {},
   "outputs": [
    {
     "data": {
      "application/vnd.jupyter.widget-view+json": {
       "model_id": "d0259017b363492680fafe8427b42b39",
       "version_major": 2,
       "version_minor": 0
      },
      "text/plain": [
       "HBox(children=(IntProgress(value=0, max=36), HTML(value='')))"
      ]
     },
     "metadata": {},
     "output_type": "display_data"
    },
    {
     "name": "stdout",
     "output_type": "stream",
     "text": [
      "\n"
     ]
    }
   ],
   "source": [
    "# create list of folder names\n",
    "folders = os.listdir(r'/Users/claudiadahinten/Desktop/DS_projects/uk_crime')\n",
    "\n",
    "#create list of the path including the folder names\n",
    "paths = []\n",
    "for folder in folders:\n",
    "    if folder.startswith('2'):\n",
    "        path = r'/Users/claudiadahinten/Desktop/DS_projects/uk_crime/{}'.format(folder) # use your path\n",
    "        paths.append(path)\n",
    "\n",
    "#iterate through each path and locate the files ending in .csv\n",
    "li = []\n",
    "for path in tqdm_notebook (paths):\n",
    "    all_files = glob.glob(path + \"/*.csv\")\n",
    "\n",
    "#read each csv file and append it to a list \n",
    "    for filename in all_files:\n",
    "        df = pd.read_csv(filename, index_col=None, header=0)\n",
    "        li.append(df)\n",
    "    \n",
    "        \n",
    "#create a neat dataframe out of the list\n",
    "frame = pd.concat(li, axis=0, ignore_index=True)\n"
   ]
  },
  {
   "cell_type": "code",
   "execution_count": 3,
   "metadata": {},
   "outputs": [
    {
     "data": {
      "text/html": [
       "<div>\n",
       "<style scoped>\n",
       "    .dataframe tbody tr th:only-of-type {\n",
       "        vertical-align: middle;\n",
       "    }\n",
       "\n",
       "    .dataframe tbody tr th {\n",
       "        vertical-align: top;\n",
       "    }\n",
       "\n",
       "    .dataframe thead th {\n",
       "        text-align: right;\n",
       "    }\n",
       "</style>\n",
       "<table border=\"1\" class=\"dataframe\">\n",
       "  <thead>\n",
       "    <tr style=\"text-align: right;\">\n",
       "      <th></th>\n",
       "      <th>Crime ID</th>\n",
       "      <th>Month</th>\n",
       "      <th>Reported by</th>\n",
       "      <th>Falls within</th>\n",
       "      <th>Longitude</th>\n",
       "      <th>Latitude</th>\n",
       "      <th>Location</th>\n",
       "      <th>LSOA code</th>\n",
       "      <th>LSOA name</th>\n",
       "      <th>Crime type</th>\n",
       "      <th>Last outcome category</th>\n",
       "      <th>Context</th>\n",
       "    </tr>\n",
       "  </thead>\n",
       "  <tbody>\n",
       "    <tr>\n",
       "      <td>0</td>\n",
       "      <td>160b1254de69a05acad1b0ee52093a86cedfc1ed91e8d4...</td>\n",
       "      <td>2017-10</td>\n",
       "      <td>Avon and Somerset Constabulary</td>\n",
       "      <td>Avon and Somerset Constabulary</td>\n",
       "      <td>-1.073626</td>\n",
       "      <td>51.806445</td>\n",
       "      <td>On or near Hill View</td>\n",
       "      <td>E01017643</td>\n",
       "      <td>Aylesbury Vale 010B</td>\n",
       "      <td>Other theft</td>\n",
       "      <td>Status update unavailable</td>\n",
       "      <td>NaN</td>\n",
       "    </tr>\n",
       "    <tr>\n",
       "      <td>1</td>\n",
       "      <td>NaN</td>\n",
       "      <td>2017-10</td>\n",
       "      <td>Avon and Somerset Constabulary</td>\n",
       "      <td>Avon and Somerset Constabulary</td>\n",
       "      <td>-2.512773</td>\n",
       "      <td>51.411751</td>\n",
       "      <td>On or near Westfield Close</td>\n",
       "      <td>E01014399</td>\n",
       "      <td>Bath and North East Somerset 001A</td>\n",
       "      <td>Anti-social behaviour</td>\n",
       "      <td>NaN</td>\n",
       "      <td>NaN</td>\n",
       "    </tr>\n",
       "  </tbody>\n",
       "</table>\n",
       "</div>"
      ],
      "text/plain": [
       "                                            Crime ID    Month  \\\n",
       "0  160b1254de69a05acad1b0ee52093a86cedfc1ed91e8d4...  2017-10   \n",
       "1                                                NaN  2017-10   \n",
       "\n",
       "                      Reported by                    Falls within  Longitude  \\\n",
       "0  Avon and Somerset Constabulary  Avon and Somerset Constabulary  -1.073626   \n",
       "1  Avon and Somerset Constabulary  Avon and Somerset Constabulary  -2.512773   \n",
       "\n",
       "    Latitude                    Location  LSOA code  \\\n",
       "0  51.806445        On or near Hill View  E01017643   \n",
       "1  51.411751  On or near Westfield Close  E01014399   \n",
       "\n",
       "                           LSOA name             Crime type  \\\n",
       "0                Aylesbury Vale 010B            Other theft   \n",
       "1  Bath and North East Somerset 001A  Anti-social behaviour   \n",
       "\n",
       "       Last outcome category  Context  \n",
       "0  Status update unavailable      NaN  \n",
       "1                        NaN      NaN  "
      ]
     },
     "execution_count": 3,
     "metadata": {},
     "output_type": "execute_result"
    }
   ],
   "source": [
    "frame.head(2)"
   ]
  },
  {
   "cell_type": "code",
   "execution_count": 4,
   "metadata": {},
   "outputs": [
    {
     "data": {
      "text/plain": [
       "(19734809, 12)"
      ]
     },
     "execution_count": 4,
     "metadata": {},
     "output_type": "execute_result"
    }
   ],
   "source": [
    "frame.shape"
   ]
  },
  {
   "cell_type": "markdown",
   "metadata": {},
   "source": [
    "### Data Cleaning"
   ]
  },
  {
   "cell_type": "markdown",
   "metadata": {},
   "source": [
    "#### 1) Rename columns"
   ]
  },
  {
   "cell_type": "code",
   "execution_count": 5,
   "metadata": {},
   "outputs": [],
   "source": [
    "frame.rename(columns = {'Falls within': 'Police_Dep',\n",
    "                          'LSOA code': 'LSOA_code',\n",
    "                          'LSOA name': 'LSOA_name',\n",
    "                          'Crime type': 'Crime_type',\n",
    "                          'Last outcome category': 'Last_outcome_category'}, inplace = True)"
   ]
  },
  {
   "cell_type": "markdown",
   "metadata": {},
   "source": [
    "#### 2) Drop redundant columns\n",
    "Crime id: unique values only <br>\n",
    "Context: has only missing values <br>\n",
    "Reported by: all values are the same as Falls within"
   ]
  },
  {
   "cell_type": "code",
   "execution_count": 6,
   "metadata": {},
   "outputs": [
    {
     "data": {
      "text/plain": [
       "Crime ID                  4669996\n",
       "Month                           0\n",
       "Reported by                     0\n",
       "Police_Dep                      0\n",
       "Longitude                  391762\n",
       "Latitude                   391762\n",
       "Location                        0\n",
       "LSOA_code                  861045\n",
       "LSOA_name                  861045\n",
       "Crime_type                      0\n",
       "Last_outcome_category     4961280\n",
       "Context                  19734809\n",
       "dtype: int64"
      ]
     },
     "execution_count": 6,
     "metadata": {},
     "output_type": "execute_result"
    }
   ],
   "source": [
    "frame.isna().sum()"
   ]
  },
  {
   "cell_type": "code",
   "execution_count": 7,
   "metadata": {},
   "outputs": [
    {
     "data": {
      "text/plain": [
       "array([ True])"
      ]
     },
     "execution_count": 7,
     "metadata": {},
     "output_type": "execute_result"
    }
   ],
   "source": [
    "np.unique(frame ['Reported by'] == frame ['Police_Dep'])"
   ]
  },
  {
   "cell_type": "code",
   "execution_count": 8,
   "metadata": {},
   "outputs": [],
   "source": [
    "frame.drop(columns = ['Crime ID', 'Context', 'Reported by'], inplace = True)"
   ]
  },
  {
   "cell_type": "markdown",
   "metadata": {},
   "source": [
    "#### 3) Create categories for crime"
   ]
  },
  {
   "cell_type": "code",
   "execution_count": 9,
   "metadata": {},
   "outputs": [
    {
     "data": {
      "text/html": [
       "<div>\n",
       "<style scoped>\n",
       "    .dataframe tbody tr th:only-of-type {\n",
       "        vertical-align: middle;\n",
       "    }\n",
       "\n",
       "    .dataframe tbody tr th {\n",
       "        vertical-align: top;\n",
       "    }\n",
       "\n",
       "    .dataframe thead th {\n",
       "        text-align: right;\n",
       "    }\n",
       "</style>\n",
       "<table border=\"1\" class=\"dataframe\">\n",
       "  <thead>\n",
       "    <tr style=\"text-align: right;\">\n",
       "      <th></th>\n",
       "      <th>Month</th>\n",
       "      <th>Police_Dep</th>\n",
       "      <th>Longitude</th>\n",
       "      <th>Latitude</th>\n",
       "      <th>Location</th>\n",
       "      <th>LSOA_code</th>\n",
       "      <th>LSOA_name</th>\n",
       "      <th>Last_outcome_category</th>\n",
       "    </tr>\n",
       "    <tr>\n",
       "      <th>Crime_type</th>\n",
       "      <th></th>\n",
       "      <th></th>\n",
       "      <th></th>\n",
       "      <th></th>\n",
       "      <th></th>\n",
       "      <th></th>\n",
       "      <th></th>\n",
       "      <th></th>\n",
       "    </tr>\n",
       "  </thead>\n",
       "  <tbody>\n",
       "    <tr>\n",
       "      <td>Anti-social behaviour</td>\n",
       "      <td>4508347</td>\n",
       "      <td>4508347</td>\n",
       "      <td>4489190</td>\n",
       "      <td>4489190</td>\n",
       "      <td>4508347</td>\n",
       "      <td>4312570</td>\n",
       "      <td>4312570</td>\n",
       "      <td>0</td>\n",
       "    </tr>\n",
       "    <tr>\n",
       "      <td>Bicycle theft</td>\n",
       "      <td>289534</td>\n",
       "      <td>289534</td>\n",
       "      <td>281311</td>\n",
       "      <td>281311</td>\n",
       "      <td>289534</td>\n",
       "      <td>278603</td>\n",
       "      <td>278603</td>\n",
       "      <td>269081</td>\n",
       "    </tr>\n",
       "    <tr>\n",
       "      <td>Burglary</td>\n",
       "      <td>1266829</td>\n",
       "      <td>1266829</td>\n",
       "      <td>1245616</td>\n",
       "      <td>1245616</td>\n",
       "      <td>1266829</td>\n",
       "      <td>1226643</td>\n",
       "      <td>1226643</td>\n",
       "      <td>1246986</td>\n",
       "    </tr>\n",
       "    <tr>\n",
       "      <td>Criminal damage and arson</td>\n",
       "      <td>1733357</td>\n",
       "      <td>1733357</td>\n",
       "      <td>1697716</td>\n",
       "      <td>1697716</td>\n",
       "      <td>1733357</td>\n",
       "      <td>1644191</td>\n",
       "      <td>1644191</td>\n",
       "      <td>1669040</td>\n",
       "    </tr>\n",
       "    <tr>\n",
       "      <td>Drugs</td>\n",
       "      <td>457715</td>\n",
       "      <td>457715</td>\n",
       "      <td>444506</td>\n",
       "      <td>444506</td>\n",
       "      <td>457715</td>\n",
       "      <td>424670</td>\n",
       "      <td>424670</td>\n",
       "      <td>432556</td>\n",
       "    </tr>\n",
       "    <tr>\n",
       "      <td>Other crime</td>\n",
       "      <td>299154</td>\n",
       "      <td>299154</td>\n",
       "      <td>290056</td>\n",
       "      <td>290056</td>\n",
       "      <td>299154</td>\n",
       "      <td>282314</td>\n",
       "      <td>282314</td>\n",
       "      <td>289334</td>\n",
       "    </tr>\n",
       "    <tr>\n",
       "      <td>Other theft</td>\n",
       "      <td>1619610</td>\n",
       "      <td>1619610</td>\n",
       "      <td>1579258</td>\n",
       "      <td>1579258</td>\n",
       "      <td>1619610</td>\n",
       "      <td>1540258</td>\n",
       "      <td>1540258</td>\n",
       "      <td>1555683</td>\n",
       "    </tr>\n",
       "    <tr>\n",
       "      <td>Possession of weapons</td>\n",
       "      <td>132165</td>\n",
       "      <td>132165</td>\n",
       "      <td>128742</td>\n",
       "      <td>128742</td>\n",
       "      <td>132165</td>\n",
       "      <td>125578</td>\n",
       "      <td>125578</td>\n",
       "      <td>126923</td>\n",
       "    </tr>\n",
       "    <tr>\n",
       "      <td>Public order</td>\n",
       "      <td>1229888</td>\n",
       "      <td>1229888</td>\n",
       "      <td>1197354</td>\n",
       "      <td>1197354</td>\n",
       "      <td>1229888</td>\n",
       "      <td>1194127</td>\n",
       "      <td>1194127</td>\n",
       "      <td>1197467</td>\n",
       "    </tr>\n",
       "    <tr>\n",
       "      <td>Robbery</td>\n",
       "      <td>242435</td>\n",
       "      <td>242435</td>\n",
       "      <td>236581</td>\n",
       "      <td>236581</td>\n",
       "      <td>242435</td>\n",
       "      <td>234826</td>\n",
       "      <td>234826</td>\n",
       "      <td>238984</td>\n",
       "    </tr>\n",
       "    <tr>\n",
       "      <td>Shoplifting</td>\n",
       "      <td>1132853</td>\n",
       "      <td>1132853</td>\n",
       "      <td>1101379</td>\n",
       "      <td>1101379</td>\n",
       "      <td>1132853</td>\n",
       "      <td>1082796</td>\n",
       "      <td>1082796</td>\n",
       "      <td>1107353</td>\n",
       "    </tr>\n",
       "    <tr>\n",
       "      <td>Theft from the person</td>\n",
       "      <td>311264</td>\n",
       "      <td>311264</td>\n",
       "      <td>302078</td>\n",
       "      <td>302078</td>\n",
       "      <td>311264</td>\n",
       "      <td>300551</td>\n",
       "      <td>300551</td>\n",
       "      <td>290114</td>\n",
       "    </tr>\n",
       "    <tr>\n",
       "      <td>Vehicle crime</td>\n",
       "      <td>1373225</td>\n",
       "      <td>1373225</td>\n",
       "      <td>1345591</td>\n",
       "      <td>1345591</td>\n",
       "      <td>1373225</td>\n",
       "      <td>1334820</td>\n",
       "      <td>1334820</td>\n",
       "      <td>1358763</td>\n",
       "    </tr>\n",
       "    <tr>\n",
       "      <td>Violence and sexual offences</td>\n",
       "      <td>5138433</td>\n",
       "      <td>5138433</td>\n",
       "      <td>5003669</td>\n",
       "      <td>5003669</td>\n",
       "      <td>5138433</td>\n",
       "      <td>4891817</td>\n",
       "      <td>4891817</td>\n",
       "      <td>4991245</td>\n",
       "    </tr>\n",
       "  </tbody>\n",
       "</table>\n",
       "</div>"
      ],
      "text/plain": [
       "                                Month  Police_Dep  Longitude  Latitude  \\\n",
       "Crime_type                                                               \n",
       "Anti-social behaviour         4508347     4508347    4489190   4489190   \n",
       "Bicycle theft                  289534      289534     281311    281311   \n",
       "Burglary                      1266829     1266829    1245616   1245616   \n",
       "Criminal damage and arson     1733357     1733357    1697716   1697716   \n",
       "Drugs                          457715      457715     444506    444506   \n",
       "Other crime                    299154      299154     290056    290056   \n",
       "Other theft                   1619610     1619610    1579258   1579258   \n",
       "Possession of weapons          132165      132165     128742    128742   \n",
       "Public order                  1229888     1229888    1197354   1197354   \n",
       "Robbery                        242435      242435     236581    236581   \n",
       "Shoplifting                   1132853     1132853    1101379   1101379   \n",
       "Theft from the person          311264      311264     302078    302078   \n",
       "Vehicle crime                 1373225     1373225    1345591   1345591   \n",
       "Violence and sexual offences  5138433     5138433    5003669   5003669   \n",
       "\n",
       "                              Location  LSOA_code  LSOA_name  \\\n",
       "Crime_type                                                     \n",
       "Anti-social behaviour          4508347    4312570    4312570   \n",
       "Bicycle theft                   289534     278603     278603   \n",
       "Burglary                       1266829    1226643    1226643   \n",
       "Criminal damage and arson      1733357    1644191    1644191   \n",
       "Drugs                           457715     424670     424670   \n",
       "Other crime                     299154     282314     282314   \n",
       "Other theft                    1619610    1540258    1540258   \n",
       "Possession of weapons           132165     125578     125578   \n",
       "Public order                   1229888    1194127    1194127   \n",
       "Robbery                         242435     234826     234826   \n",
       "Shoplifting                    1132853    1082796    1082796   \n",
       "Theft from the person           311264     300551     300551   \n",
       "Vehicle crime                  1373225    1334820    1334820   \n",
       "Violence and sexual offences   5138433    4891817    4891817   \n",
       "\n",
       "                              Last_outcome_category  \n",
       "Crime_type                                           \n",
       "Anti-social behaviour                             0  \n",
       "Bicycle theft                                269081  \n",
       "Burglary                                    1246986  \n",
       "Criminal damage and arson                   1669040  \n",
       "Drugs                                        432556  \n",
       "Other crime                                  289334  \n",
       "Other theft                                 1555683  \n",
       "Possession of weapons                        126923  \n",
       "Public order                                1197467  \n",
       "Robbery                                      238984  \n",
       "Shoplifting                                 1107353  \n",
       "Theft from the person                        290114  \n",
       "Vehicle crime                               1358763  \n",
       "Violence and sexual offences                4991245  "
      ]
     },
     "execution_count": 9,
     "metadata": {},
     "output_type": "execute_result"
    }
   ],
   "source": [
    "frame.groupby('Crime_type').count()"
   ]
  },
  {
   "cell_type": "code",
   "execution_count": 10,
   "metadata": {},
   "outputs": [],
   "source": [
    "def category_maker (column):\n",
    "    if column == 'Bicycle theft' or column == 'Burglary' or column == 'Other theft' or column == 'Robbery' or \\\n",
    "    column == 'Shoplifting' or column == 'Theft from the person':\n",
    "        return 'Theft'\n",
    "    elif column == 'Criminal damage and arson' or column == 'Violence and sexual offences':\n",
    "        return 'Violent'\n",
    "    elif column == 'Anti-social behaviour' or column == 'Possession of weapons' or column == 'Public order' or \\\n",
    "    column == 'Vehicle crime':\n",
    "        return 'Non-Violent'\n",
    "    elif column == 'Drugs':\n",
    "        return 'Drugs'\n",
    "    elif column == 'Other crime':\n",
    "        return 'Other crime'\n",
    "    else:\n",
    "        return '?'"
   ]
  },
  {
   "cell_type": "code",
   "execution_count": 11,
   "metadata": {},
   "outputs": [],
   "source": [
    "frame['Category'] = frame['Crime_type'].map(category_maker)"
   ]
  },
  {
   "cell_type": "code",
   "execution_count": 12,
   "metadata": {},
   "outputs": [
    {
     "data": {
      "text/plain": [
       "array(['Theft', 'Non-Violent', 'Violent', 'Drugs', 'Other crime'],\n",
       "      dtype=object)"
      ]
     },
     "execution_count": 12,
     "metadata": {},
     "output_type": "execute_result"
    }
   ],
   "source": [
    "frame['Category'].unique()"
   ]
  },
  {
   "cell_type": "markdown",
   "metadata": {},
   "source": [
    "### Save to csv"
   ]
  },
  {
   "cell_type": "code",
   "execution_count": 13,
   "metadata": {},
   "outputs": [],
   "source": [
    "frame.to_csv(r'uk_crime.csv', index = False)"
   ]
  },
  {
   "cell_type": "code",
   "execution_count": 14,
   "metadata": {},
   "outputs": [],
   "source": [
    "complete = pd.read_csv('uk_crime.csv')"
   ]
  },
  {
   "cell_type": "markdown",
   "metadata": {},
   "source": [
    "### Cleaning\n",
    " Create a datetime object for date and create a new column for month and year"
   ]
  },
  {
   "cell_type": "code",
   "execution_count": 15,
   "metadata": {},
   "outputs": [],
   "source": [
    "complete['Date'] = pd.to_datetime(complete['Month'], format='%Y-%m')\n",
    "complete['Year'] = complete['Date'].dt.year\n",
    "complete['Month'] = complete ['Date'].dt.month"
   ]
  },
  {
   "cell_type": "markdown",
   "metadata": {},
   "source": [
    "### EDA\n",
    "Drop 2016 rows as missing data (highly unlikely there were only crimes in December that year)"
   ]
  },
  {
   "cell_type": "code",
   "execution_count": 16,
   "metadata": {},
   "outputs": [
    {
     "data": {
      "text/html": [
       "<div>\n",
       "<style scoped>\n",
       "    .dataframe tbody tr th:only-of-type {\n",
       "        vertical-align: middle;\n",
       "    }\n",
       "\n",
       "    .dataframe tbody tr th {\n",
       "        vertical-align: top;\n",
       "    }\n",
       "\n",
       "    .dataframe thead th {\n",
       "        text-align: right;\n",
       "    }\n",
       "</style>\n",
       "<table border=\"1\" class=\"dataframe\">\n",
       "  <thead>\n",
       "    <tr style=\"text-align: right;\">\n",
       "      <th></th>\n",
       "      <th>Month</th>\n",
       "      <th>Police_Dep</th>\n",
       "      <th>Longitude</th>\n",
       "      <th>Latitude</th>\n",
       "      <th>Location</th>\n",
       "      <th>LSOA_code</th>\n",
       "      <th>LSOA_name</th>\n",
       "      <th>Crime_type</th>\n",
       "      <th>Last_outcome_category</th>\n",
       "      <th>Category</th>\n",
       "      <th>Date</th>\n",
       "      <th>Year</th>\n",
       "    </tr>\n",
       "  </thead>\n",
       "  <tbody>\n",
       "    <tr>\n",
       "      <td>0</td>\n",
       "      <td>10</td>\n",
       "      <td>Avon and Somerset Constabulary</td>\n",
       "      <td>-1.073626</td>\n",
       "      <td>51.806445</td>\n",
       "      <td>On or near Hill View</td>\n",
       "      <td>E01017643</td>\n",
       "      <td>Aylesbury Vale 010B</td>\n",
       "      <td>Other theft</td>\n",
       "      <td>Status update unavailable</td>\n",
       "      <td>Theft</td>\n",
       "      <td>2017-10-01</td>\n",
       "      <td>2017</td>\n",
       "    </tr>\n",
       "    <tr>\n",
       "      <td>1</td>\n",
       "      <td>10</td>\n",
       "      <td>Avon and Somerset Constabulary</td>\n",
       "      <td>-2.512773</td>\n",
       "      <td>51.411751</td>\n",
       "      <td>On or near Westfield Close</td>\n",
       "      <td>E01014399</td>\n",
       "      <td>Bath and North East Somerset 001A</td>\n",
       "      <td>Anti-social behaviour</td>\n",
       "      <td>NaN</td>\n",
       "      <td>Non-Violent</td>\n",
       "      <td>2017-10-01</td>\n",
       "      <td>2017</td>\n",
       "    </tr>\n",
       "    <tr>\n",
       "      <td>2</td>\n",
       "      <td>10</td>\n",
       "      <td>Avon and Somerset Constabulary</td>\n",
       "      <td>-2.513718</td>\n",
       "      <td>51.429407</td>\n",
       "      <td>On or near A4174</td>\n",
       "      <td>E01014399</td>\n",
       "      <td>Bath and North East Somerset 001A</td>\n",
       "      <td>Anti-social behaviour</td>\n",
       "      <td>NaN</td>\n",
       "      <td>Non-Violent</td>\n",
       "      <td>2017-10-01</td>\n",
       "      <td>2017</td>\n",
       "    </tr>\n",
       "    <tr>\n",
       "      <td>3</td>\n",
       "      <td>10</td>\n",
       "      <td>Avon and Somerset Constabulary</td>\n",
       "      <td>-2.513343</td>\n",
       "      <td>51.408772</td>\n",
       "      <td>On or near Lincoln Close</td>\n",
       "      <td>E01014399</td>\n",
       "      <td>Bath and North East Somerset 001A</td>\n",
       "      <td>Anti-social behaviour</td>\n",
       "      <td>NaN</td>\n",
       "      <td>Non-Violent</td>\n",
       "      <td>2017-10-01</td>\n",
       "      <td>2017</td>\n",
       "    </tr>\n",
       "    <tr>\n",
       "      <td>4</td>\n",
       "      <td>10</td>\n",
       "      <td>Avon and Somerset Constabulary</td>\n",
       "      <td>-2.512773</td>\n",
       "      <td>51.411751</td>\n",
       "      <td>On or near Westfield Close</td>\n",
       "      <td>E01014399</td>\n",
       "      <td>Bath and North East Somerset 001A</td>\n",
       "      <td>Burglary</td>\n",
       "      <td>Status update unavailable</td>\n",
       "      <td>Theft</td>\n",
       "      <td>2017-10-01</td>\n",
       "      <td>2017</td>\n",
       "    </tr>\n",
       "  </tbody>\n",
       "</table>\n",
       "</div>"
      ],
      "text/plain": [
       "   Month                      Police_Dep  Longitude   Latitude  \\\n",
       "0     10  Avon and Somerset Constabulary  -1.073626  51.806445   \n",
       "1     10  Avon and Somerset Constabulary  -2.512773  51.411751   \n",
       "2     10  Avon and Somerset Constabulary  -2.513718  51.429407   \n",
       "3     10  Avon and Somerset Constabulary  -2.513343  51.408772   \n",
       "4     10  Avon and Somerset Constabulary  -2.512773  51.411751   \n",
       "\n",
       "                     Location  LSOA_code                          LSOA_name  \\\n",
       "0        On or near Hill View  E01017643                Aylesbury Vale 010B   \n",
       "1  On or near Westfield Close  E01014399  Bath and North East Somerset 001A   \n",
       "2            On or near A4174  E01014399  Bath and North East Somerset 001A   \n",
       "3    On or near Lincoln Close  E01014399  Bath and North East Somerset 001A   \n",
       "4  On or near Westfield Close  E01014399  Bath and North East Somerset 001A   \n",
       "\n",
       "              Crime_type      Last_outcome_category     Category       Date  \\\n",
       "0            Other theft  Status update unavailable        Theft 2017-10-01   \n",
       "1  Anti-social behaviour                        NaN  Non-Violent 2017-10-01   \n",
       "2  Anti-social behaviour                        NaN  Non-Violent 2017-10-01   \n",
       "3  Anti-social behaviour                        NaN  Non-Violent 2017-10-01   \n",
       "4               Burglary  Status update unavailable        Theft 2017-10-01   \n",
       "\n",
       "   Year  \n",
       "0  2017  \n",
       "1  2017  \n",
       "2  2017  \n",
       "3  2017  \n",
       "4  2017  "
      ]
     },
     "execution_count": 16,
     "metadata": {},
     "output_type": "execute_result"
    }
   ],
   "source": [
    "complete.head()"
   ]
  },
  {
   "cell_type": "code",
   "execution_count": 52,
   "metadata": {},
   "outputs": [
    {
     "data": {
      "text/plain": [
       "2018    6647369\n",
       "2017    6586451\n",
       "2019    6006192\n",
       "2016     494797\n",
       "Name: Year, dtype: int64"
      ]
     },
     "execution_count": 52,
     "metadata": {},
     "output_type": "execute_result"
    }
   ],
   "source": [
    "#Further explore why there are so few values for 2016\n",
    "complete.Year.value_counts()"
   ]
  },
  {
   "cell_type": "code",
   "execution_count": 70,
   "metadata": {},
   "outputs": [
    {
     "data": {
      "text/html": [
       "<div>\n",
       "<style scoped>\n",
       "    .dataframe tbody tr th:only-of-type {\n",
       "        vertical-align: middle;\n",
       "    }\n",
       "\n",
       "    .dataframe tbody tr th {\n",
       "        vertical-align: top;\n",
       "    }\n",
       "\n",
       "    .dataframe thead th {\n",
       "        text-align: right;\n",
       "    }\n",
       "</style>\n",
       "<table border=\"1\" class=\"dataframe\">\n",
       "  <thead>\n",
       "    <tr style=\"text-align: right;\">\n",
       "      <th></th>\n",
       "      <th>Year</th>\n",
       "      <th>Month</th>\n",
       "      <th>Falls within</th>\n",
       "    </tr>\n",
       "  </thead>\n",
       "  <tbody>\n",
       "    <tr>\n",
       "      <td>0</td>\n",
       "      <td>2016</td>\n",
       "      <td>12</td>\n",
       "      <td>494797</td>\n",
       "    </tr>\n",
       "    <tr>\n",
       "      <td>1</td>\n",
       "      <td>2017</td>\n",
       "      <td>1</td>\n",
       "      <td>487951</td>\n",
       "    </tr>\n",
       "    <tr>\n",
       "      <td>2</td>\n",
       "      <td>2017</td>\n",
       "      <td>2</td>\n",
       "      <td>475887</td>\n",
       "    </tr>\n",
       "    <tr>\n",
       "      <td>3</td>\n",
       "      <td>2017</td>\n",
       "      <td>3</td>\n",
       "      <td>556414</td>\n",
       "    </tr>\n",
       "    <tr>\n",
       "      <td>4</td>\n",
       "      <td>2017</td>\n",
       "      <td>4</td>\n",
       "      <td>544189</td>\n",
       "    </tr>\n",
       "    <tr>\n",
       "      <td>5</td>\n",
       "      <td>2017</td>\n",
       "      <td>5</td>\n",
       "      <td>577329</td>\n",
       "    </tr>\n",
       "    <tr>\n",
       "      <td>6</td>\n",
       "      <td>2017</td>\n",
       "      <td>6</td>\n",
       "      <td>573879</td>\n",
       "    </tr>\n",
       "    <tr>\n",
       "      <td>7</td>\n",
       "      <td>2017</td>\n",
       "      <td>7</td>\n",
       "      <td>601291</td>\n",
       "    </tr>\n",
       "    <tr>\n",
       "      <td>8</td>\n",
       "      <td>2017</td>\n",
       "      <td>8</td>\n",
       "      <td>583573</td>\n",
       "    </tr>\n",
       "    <tr>\n",
       "      <td>9</td>\n",
       "      <td>2017</td>\n",
       "      <td>9</td>\n",
       "      <td>543610</td>\n",
       "    </tr>\n",
       "  </tbody>\n",
       "</table>\n",
       "</div>"
      ],
      "text/plain": [
       "   Year  Month  Falls within\n",
       "0  2016     12        494797\n",
       "1  2017      1        487951\n",
       "2  2017      2        475887\n",
       "3  2017      3        556414\n",
       "4  2017      4        544189\n",
       "5  2017      5        577329\n",
       "6  2017      6        573879\n",
       "7  2017      7        601291\n",
       "8  2017      8        583573\n",
       "9  2017      9        543610"
      ]
     },
     "execution_count": 70,
     "metadata": {},
     "output_type": "execute_result"
    }
   ],
   "source": [
    "#Turns out data for 2016 must be missing as only December is reported\n",
    "complete.groupby(['Year','Month']).count().reset_index().iloc[0:10,:3]"
   ]
  },
  {
   "cell_type": "markdown",
   "metadata": {},
   "source": [
    "#### Drop 2016"
   ]
  },
  {
   "cell_type": "code",
   "execution_count": 17,
   "metadata": {},
   "outputs": [],
   "source": [
    "complete = complete[complete['Year'] != 2016]"
   ]
  },
  {
   "cell_type": "code",
   "execution_count": 18,
   "metadata": {},
   "outputs": [
    {
     "data": {
      "text/plain": [
       "2018    6647369\n",
       "2017    6586451\n",
       "2019    6006192\n",
       "Name: Year, dtype: int64"
      ]
     },
     "execution_count": 18,
     "metadata": {},
     "output_type": "execute_result"
    }
   ],
   "source": [
    "complete['Year'].value_counts()"
   ]
  },
  {
   "cell_type": "markdown",
   "metadata": {},
   "source": [
    "#### Crime by month over the years"
   ]
  },
  {
   "cell_type": "code",
   "execution_count": 19,
   "metadata": {},
   "outputs": [
    {
     "data": {
      "image/png": "[encoded data removed]",
      "text/plain": [
       "<Figure size 432x288 with 1 Axes>"
      ]
     },
     "metadata": {
      "needs_background": "light"
     },
     "output_type": "display_data"
    }
   ],
   "source": [
    "#Looks like there's a bit of a seasonal trend - more crime in the summer\n",
    "complete['Date'].value_counts().sort_index().plot();"
   ]
  },
  {
   "cell_type": "markdown",
   "metadata": {},
   "source": [
    "#### Crime type"
   ]
  },
  {
   "cell_type": "code",
   "execution_count": 20,
   "metadata": {},
   "outputs": [
    {
     "data": {
      "image/png": "[encoded data removed]",
      "text/plain": [
       "<Figure size 432x288 with 1 Axes>"
      ]
     },
     "metadata": {
      "needs_background": "light"
     },
     "output_type": "display_data"
    }
   ],
   "source": [
    "#Surprising and sad to see that violent and sexual offences are the most common crimes. Maybe this is because\n",
    "#these are reported more often than other crimes?\n",
    "complete[\"Crime_type\"].value_counts().plot.bar();"
   ]
  },
  {
   "cell_type": "code",
   "execution_count": 21,
   "metadata": {},
   "outputs": [
    {
     "data": {
      "image/png": "[encoded data removed]",
      "text/plain": [
       "<Figure size 432x288 with 1 Axes>"
      ]
     },
     "metadata": {
      "needs_background": "light"
     },
     "output_type": "display_data"
    }
   ],
   "source": [
    "complete[\"Category\"].value_counts().plot.bar();"
   ]
  },
  {
   "cell_type": "code",
   "execution_count": 22,
   "metadata": {},
   "outputs": [
    {
     "data": {
      "image/png": "[encoded data removed]",
      "text/plain": [
       "<Figure size 432x288 with 1 Axes>"
      ]
     },
     "metadata": {
      "needs_background": "light"
     },
     "output_type": "display_data"
    }
   ],
   "source": [
    "#Plot the crimes grouped by categories on a log scale to make the graph more readable\n",
    "complete.groupby(['Category', 'Crime_type']).count()['Month'].unstack().plot.bar(log = True, width = 1.5)\n",
    "plt.legend(loc = 'lower right')\n",
    "plt.legend(bbox_to_anchor=(1.1, 1.05))\n",
    "plt.show()"
   ]
  },
  {
   "cell_type": "markdown",
   "metadata": {},
   "source": [
    "#### Crimes Reported to Police Stations"
   ]
  },
  {
   "cell_type": "code",
   "execution_count": 23,
   "metadata": {},
   "outputs": [
    {
     "data": {
      "text/html": [
       "<div>\n",
       "<style scoped>\n",
       "    .dataframe tbody tr th:only-of-type {\n",
       "        vertical-align: middle;\n",
       "    }\n",
       "\n",
       "    .dataframe tbody tr th {\n",
       "        vertical-align: top;\n",
       "    }\n",
       "\n",
       "    .dataframe thead th {\n",
       "        text-align: right;\n",
       "    }\n",
       "</style>\n",
       "<table border=\"1\" class=\"dataframe\">\n",
       "  <thead>\n",
       "    <tr style=\"text-align: right;\">\n",
       "      <th></th>\n",
       "      <th>Police_Dep</th>\n",
       "      <th>Category</th>\n",
       "    </tr>\n",
       "  </thead>\n",
       "  <tbody>\n",
       "    <tr>\n",
       "      <td>25</td>\n",
       "      <td>Metropolitan Police Service</td>\n",
       "      <td>3117967</td>\n",
       "    </tr>\n",
       "    <tr>\n",
       "      <td>15</td>\n",
       "      <td>Greater Manchester Police</td>\n",
       "      <td>998318</td>\n",
       "    </tr>\n",
       "    <tr>\n",
       "      <td>43</td>\n",
       "      <td>West Yorkshire Police</td>\n",
       "      <td>977998</td>\n",
       "    </tr>\n",
       "    <tr>\n",
       "      <td>42</td>\n",
       "      <td>West Midlands Police</td>\n",
       "      <td>853947</td>\n",
       "    </tr>\n",
       "    <tr>\n",
       "      <td>20</td>\n",
       "      <td>Kent Police</td>\n",
       "      <td>631994</td>\n",
       "    </tr>\n",
       "    <tr>\n",
       "      <td>30</td>\n",
       "      <td>Northumbria Police</td>\n",
       "      <td>611681</td>\n",
       "    </tr>\n",
       "    <tr>\n",
       "      <td>21</td>\n",
       "      <td>Lancashire Constabulary</td>\n",
       "      <td>596548</td>\n",
       "    </tr>\n",
       "    <tr>\n",
       "      <td>13</td>\n",
       "      <td>Essex Police</td>\n",
       "      <td>576199</td>\n",
       "    </tr>\n",
       "    <tr>\n",
       "      <td>39</td>\n",
       "      <td>Thames Valley Police</td>\n",
       "      <td>563047</td>\n",
       "    </tr>\n",
       "    <tr>\n",
       "      <td>34</td>\n",
       "      <td>South Yorkshire Police</td>\n",
       "      <td>562475</td>\n",
       "    </tr>\n",
       "  </tbody>\n",
       "</table>\n",
       "</div>"
      ],
      "text/plain": [
       "                     Police_Dep  Category\n",
       "25  Metropolitan Police Service   3117967\n",
       "15    Greater Manchester Police    998318\n",
       "43        West Yorkshire Police    977998\n",
       "42         West Midlands Police    853947\n",
       "20                  Kent Police    631994\n",
       "30           Northumbria Police    611681\n",
       "21      Lancashire Constabulary    596548\n",
       "13                 Essex Police    576199\n",
       "39         Thames Valley Police    563047\n",
       "34       South Yorkshire Police    562475"
      ]
     },
     "execution_count": 23,
     "metadata": {},
     "output_type": "execute_result"
    }
   ],
   "source": [
    "#Metropolitan Police have by far the most crimes reported\n",
    "complete.groupby('Police_Dep').count()['Category'].reset_index().sort_values('Category', ascending = False)[:10]"
   ]
  },
  {
   "cell_type": "code",
   "execution_count": 24,
   "metadata": {},
   "outputs": [],
   "source": [
    "#Create a new column by LSOA which I am using as aproxy for \"Council\"\n",
    "complete['Short_LSOA_name'] = complete['LSOA_name'].str.extract(r'([^0-9]+)')"
   ]
  },
  {
   "cell_type": "code",
   "execution_count": 25,
   "metadata": {},
   "outputs": [
    {
     "data": {
      "text/html": [
       "<div>\n",
       "<style scoped>\n",
       "    .dataframe tbody tr th:only-of-type {\n",
       "        vertical-align: middle;\n",
       "    }\n",
       "\n",
       "    .dataframe tbody tr th {\n",
       "        vertical-align: top;\n",
       "    }\n",
       "\n",
       "    .dataframe thead th {\n",
       "        text-align: right;\n",
       "    }\n",
       "</style>\n",
       "<table border=\"1\" class=\"dataframe\">\n",
       "  <thead>\n",
       "    <tr style=\"text-align: right;\">\n",
       "      <th></th>\n",
       "      <th>Short_LSOA_name</th>\n",
       "      <th>Category</th>\n",
       "    </tr>\n",
       "  </thead>\n",
       "  <tbody>\n",
       "    <tr>\n",
       "      <td>18</td>\n",
       "      <td>Birmingham</td>\n",
       "      <td>374853</td>\n",
       "    </tr>\n",
       "    <tr>\n",
       "      <td>159</td>\n",
       "      <td>Leeds</td>\n",
       "      <td>342064</td>\n",
       "    </tr>\n",
       "    <tr>\n",
       "      <td>170</td>\n",
       "      <td>Manchester</td>\n",
       "      <td>287000</td>\n",
       "    </tr>\n",
       "    <tr>\n",
       "      <td>330</td>\n",
       "      <td>Westminster</td>\n",
       "      <td>243933</td>\n",
       "    </tr>\n",
       "    <tr>\n",
       "      <td>28</td>\n",
       "      <td>Bradford</td>\n",
       "      <td>242910</td>\n",
       "    </tr>\n",
       "    <tr>\n",
       "      <td>247</td>\n",
       "      <td>Sheffield</td>\n",
       "      <td>217436</td>\n",
       "    </tr>\n",
       "    <tr>\n",
       "      <td>165</td>\n",
       "      <td>Liverpool</td>\n",
       "      <td>214252</td>\n",
       "    </tr>\n",
       "    <tr>\n",
       "      <td>73</td>\n",
       "      <td>County Durham</td>\n",
       "      <td>186978</td>\n",
       "    </tr>\n",
       "    <tr>\n",
       "      <td>35</td>\n",
       "      <td>Bristol</td>\n",
       "      <td>183309</td>\n",
       "    </tr>\n",
       "    <tr>\n",
       "      <td>187</td>\n",
       "      <td>Newcastle upon Tyne</td>\n",
       "      <td>169546</td>\n",
       "    </tr>\n",
       "  </tbody>\n",
       "</table>\n",
       "</div>"
      ],
      "text/plain": [
       "          Short_LSOA_name  Category\n",
       "18            Birmingham     374853\n",
       "159                Leeds     342064\n",
       "170           Manchester     287000\n",
       "330          Westminster     243933\n",
       "28              Bradford     242910\n",
       "247            Sheffield     217436\n",
       "165            Liverpool     214252\n",
       "73         County Durham     186978\n",
       "35               Bristol     183309\n",
       "187  Newcastle upon Tyne     169546"
      ]
     },
     "execution_count": 25,
     "metadata": {},
     "output_type": "execute_result"
    }
   ],
   "source": [
    "complete.groupby('Short_LSOA_name').count()['Category'].reset_index().sort_values('Category', ascending = False)[:10]"
   ]
  },
  {
   "cell_type": "markdown",
   "metadata": {},
   "source": [
    "#### London's Most Dangerous Councils"
   ]
  },
  {
   "cell_type": "code",
   "execution_count": 26,
   "metadata": {},
   "outputs": [],
   "source": [
    "london = complete[complete['Police_Dep'] == 'Metropolitan Police Service']"
   ]
  },
  {
   "cell_type": "code",
   "execution_count": 27,
   "metadata": {},
   "outputs": [
    {
     "data": {
      "text/html": [
       "<div>\n",
       "<style scoped>\n",
       "    .dataframe tbody tr th:only-of-type {\n",
       "        vertical-align: middle;\n",
       "    }\n",
       "\n",
       "    .dataframe tbody tr th {\n",
       "        vertical-align: top;\n",
       "    }\n",
       "\n",
       "    .dataframe thead th {\n",
       "        text-align: right;\n",
       "    }\n",
       "</style>\n",
       "<table border=\"1\" class=\"dataframe\">\n",
       "  <thead>\n",
       "    <tr style=\"text-align: right;\">\n",
       "      <th></th>\n",
       "      <th>Short_LSOA_name</th>\n",
       "      <th>Category</th>\n",
       "    </tr>\n",
       "  </thead>\n",
       "  <tbody>\n",
       "    <tr>\n",
       "      <td>310</td>\n",
       "      <td>Westminster</td>\n",
       "      <td>229159</td>\n",
       "    </tr>\n",
       "    <tr>\n",
       "      <td>43</td>\n",
       "      <td>Camden</td>\n",
       "      <td>133988</td>\n",
       "    </tr>\n",
       "    <tr>\n",
       "      <td>287</td>\n",
       "      <td>Tower Hamlets</td>\n",
       "      <td>133447</td>\n",
       "    </tr>\n",
       "    <tr>\n",
       "      <td>251</td>\n",
       "      <td>Southwark</td>\n",
       "      <td>127379</td>\n",
       "    </tr>\n",
       "    <tr>\n",
       "      <td>147</td>\n",
       "      <td>Lambeth</td>\n",
       "      <td>127255</td>\n",
       "    </tr>\n",
       "    <tr>\n",
       "      <td>178</td>\n",
       "      <td>Newham</td>\n",
       "      <td>124097</td>\n",
       "    </tr>\n",
       "    <tr>\n",
       "      <td>114</td>\n",
       "      <td>Hackney</td>\n",
       "      <td>116061</td>\n",
       "    </tr>\n",
       "    <tr>\n",
       "      <td>72</td>\n",
       "      <td>Croydon</td>\n",
       "      <td>111886</td>\n",
       "    </tr>\n",
       "    <tr>\n",
       "      <td>28</td>\n",
       "      <td>Brent</td>\n",
       "      <td>111647</td>\n",
       "    </tr>\n",
       "    <tr>\n",
       "      <td>119</td>\n",
       "      <td>Haringey</td>\n",
       "      <td>111201</td>\n",
       "    </tr>\n",
       "  </tbody>\n",
       "</table>\n",
       "</div>"
      ],
      "text/plain": [
       "    Short_LSOA_name  Category\n",
       "310    Westminster     229159\n",
       "43          Camden     133988\n",
       "287  Tower Hamlets     133447\n",
       "251      Southwark     127379\n",
       "147        Lambeth     127255\n",
       "178         Newham     124097\n",
       "114        Hackney     116061\n",
       "72         Croydon     111886\n",
       "28           Brent     111647\n",
       "119       Haringey     111201"
      ]
     },
     "execution_count": 27,
     "metadata": {},
     "output_type": "execute_result"
    }
   ],
   "source": [
    "london.groupby('Short_LSOA_name').count()['Category'].reset_index().sort_values('Category', ascending = False)[:10]"
   ]
  },
  {
   "cell_type": "markdown",
   "metadata": {},
   "source": [
    "#### Crime by Location"
   ]
  },
  {
   "cell_type": "code",
   "execution_count": 28,
   "metadata": {},
   "outputs": [
    {
     "data": {
      "text/html": [
       "<div>\n",
       "<style scoped>\n",
       "    .dataframe tbody tr th:only-of-type {\n",
       "        vertical-align: middle;\n",
       "    }\n",
       "\n",
       "    .dataframe tbody tr th {\n",
       "        vertical-align: top;\n",
       "    }\n",
       "\n",
       "    .dataframe thead th {\n",
       "        text-align: right;\n",
       "    }\n",
       "</style>\n",
       "<table border=\"1\" class=\"dataframe\">\n",
       "  <thead>\n",
       "    <tr style=\"text-align: right;\">\n",
       "      <th></th>\n",
       "      <th>Location</th>\n",
       "      <th>Category</th>\n",
       "    </tr>\n",
       "  </thead>\n",
       "  <tbody>\n",
       "    <tr>\n",
       "      <td>231054</td>\n",
       "      <td>On or near Supermarket</td>\n",
       "      <td>657386</td>\n",
       "    </tr>\n",
       "    <tr>\n",
       "      <td>182767</td>\n",
       "      <td>On or near Parking Area</td>\n",
       "      <td>608262</td>\n",
       "    </tr>\n",
       "    <tr>\n",
       "      <td>214879</td>\n",
       "      <td>On or near Shopping Area</td>\n",
       "      <td>453694</td>\n",
       "    </tr>\n",
       "    <tr>\n",
       "      <td>187332</td>\n",
       "      <td>On or near Petrol Station</td>\n",
       "      <td>384315</td>\n",
       "    </tr>\n",
       "    <tr>\n",
       "      <td>0</td>\n",
       "      <td>No Location</td>\n",
       "      <td>383277</td>\n",
       "    </tr>\n",
       "    <tr>\n",
       "      <td>220841</td>\n",
       "      <td>On or near Sports/Recreation Area</td>\n",
       "      <td>315477</td>\n",
       "    </tr>\n",
       "    <tr>\n",
       "      <td>172947</td>\n",
       "      <td>On or near Nightclub</td>\n",
       "      <td>168876</td>\n",
       "    </tr>\n",
       "    <tr>\n",
       "      <td>184482</td>\n",
       "      <td>On or near Pedestrian Subway</td>\n",
       "      <td>158579</td>\n",
       "    </tr>\n",
       "    <tr>\n",
       "      <td>119399</td>\n",
       "      <td>On or near High Street</td>\n",
       "      <td>91850</td>\n",
       "    </tr>\n",
       "    <tr>\n",
       "      <td>125481</td>\n",
       "      <td>On or near Hospital</td>\n",
       "      <td>88493</td>\n",
       "    </tr>\n",
       "  </tbody>\n",
       "</table>\n",
       "</div>"
      ],
      "text/plain": [
       "                                 Location  Category\n",
       "231054             On or near Supermarket    657386\n",
       "182767            On or near Parking Area    608262\n",
       "214879           On or near Shopping Area    453694\n",
       "187332          On or near Petrol Station    384315\n",
       "0                             No Location    383277\n",
       "220841  On or near Sports/Recreation Area    315477\n",
       "172947               On or near Nightclub    168876\n",
       "184482       On or near Pedestrian Subway    158579\n",
       "119399             On or near High Street     91850\n",
       "125481                On or near Hospital     88493"
      ]
     },
     "execution_count": 28,
     "metadata": {},
     "output_type": "execute_result"
    }
   ],
   "source": [
    "complete.groupby('Location').count()['Category'].reset_index().sort_values('Category', ascending = False)[:10]"
   ]
  },
  {
   "cell_type": "code",
   "execution_count": 29,
   "metadata": {},
   "outputs": [],
   "source": [
    "complete.to_csv(r'uk_crime_complete.csv', index = False)"
   ]
  },
  {
   "cell_type": "markdown",
   "metadata": {},
   "source": [
    "### Conclusions"
   ]
  },
  {
   "cell_type": "markdown",
   "metadata": {},
   "source": [
    "So far following conclusions have been made:\n",
    "- Between 2017 and 2018 there have been over 19 million reported crimes in the UK\n",
    "- Unsurprisingly most crimes (3 million) are reported to the London Metropolitan Police\n",
    "- If you live in London you want to stay away from Westminster, Camden and Tower Hamlets if you wants to stay safe\n",
    "- Interestingly the council (LSOA) with the most crime in the UK is Birmingham\n",
    "- The majority of crimes occur near Supermarkets, Parking Areas and Shopping Areas\n",
    "- Violent and sexual crimes are the highest reported crimes\n",
    "- Crime appears to be seasonal as they increase during the summer in each year, there is also a big rop in December and subsequent increase in January\n",
    "     \n",
    "To better visualise this I've created a Tableau dashboard, which can be viewed here: https://tinyurl.com/t5oduw9\n",
    "- In particular I was interested in:\n",
    "    - Creating a Dashboard to visualise the above on one page\n",
    "    - Showing the hotspots for crimes in a map\n",
    "    - Creating more interactivity for the user"
   ]
  }
 ],
 "metadata": {
  "kernelspec": {
   "display_name": "Python 3",
   "language": "python",
   "name": "python3"
  },
  "language_info": {
   "codemirror_mode": {
    "name": "ipython",
    "version": 3
   },
   "file_extension": ".py",
   "mimetype": "text/x-python",
   "name": "python",
   "nbconvert_exporter": "python",
   "pygments_lexer": "ipython3",
   "version": "3.7.4"
  }
 },
 "nbformat": 4,
 "nbformat_minor": 2
}
